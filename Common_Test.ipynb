{
 "cells": [
  {
   "cell_type": "markdown",
   "metadata": {
    "id": "0MAf71tSax6T"
   },
   "source": [
    "# **Common Test I. Multi-Class Classification**"
   ]
  },
  {
   "cell_type": "markdown",
   "metadata": {
    "id": "TBFnXvQOg2w4"
   },
   "source": [
    "**Note:** *Entire dataset training took more than 1 hour for 3 epochs and required more epochs for AUC score improvement. Which made difficult to analyze and optimize the model given the limited time to submit the GSoC test for evaluation. Hence 10% of dataset was used for training with 25 epochs, which took same 1 hour and achieved optimal evaluation metric score.*"
   ]
  },
  {
   "cell_type": "markdown",
   "metadata": {
    "id": "sHZWpsiGc4nc"
   },
   "source": [
    "*   Imports essential libraries for deep learning, image processing, and evaluation.\n",
    "*   Handles datasets using PyTorch's Dataset and DataLoader.\n",
    "*   Loads and processes images using PIL and torchvision.transforms.\n",
    "*   Defines and trains neural networks using PyTorch (nn, optim, F).\n",
    "*   Uses pretrained models from torchvision.models for tasks like classification.\n",
    "*   Evaluates models using metrics like ROC-AUC and visualizations (Matplotlib).\n",
    "*   Manages files and directories using os and glob.\n",
    "\n",
    "\n"
   ]
  },
  {
   "cell_type": "code",
   "execution_count": 1,
   "metadata": {
    "id": "7EfaL000auX7"
   },
   "outputs": [],
   "source": [
    "import numpy as np\n",
    "import torch\n",
    "import torch.nn as nn\n",
    "import torch.optim as optim\n",
    "import torch.nn.functional as F\n",
    "import torchvision.transforms as transforms\n",
    "from torch.utils.data import Dataset, DataLoader\n",
    "import matplotlib.pyplot as plt\n",
    "from sklearn.metrics import roc_auc_score, roc_curve\n",
    "import os\n",
    "from glob import glob\n",
    "from PIL import Image\n",
    "from torchvision import models"
   ]
  },
  {
   "cell_type": "markdown",
   "metadata": {
    "id": "hQycUliydiwo"
   },
   "source": [
    "Checks for *GPU* availability and sets the device accordingly.\n",
    "Defines dataset paths for training and validation images across ***three classes (no, vort, sphere)***.\n",
    "Creates a label mapping to convert class names into numerical labels for model training."
   ]
  },
  {
   "cell_type": "code",
   "execution_count": 2,
   "metadata": {
    "id": "4GOOAUdfauX9"
   },
   "outputs": [],
   "source": [
    "# Check for GPU\n",
    "device = torch.device(\"cuda\" if torch.cuda.is_available() else \"cpu\")\n",
    "\n",
    "# Define dataset paths\n",
    "train_dirs = {\"no\": \"dataset/train/no/\", \"vort\": \"dataset/train/vort/\", \"sphere\": \"dataset/train/sphere/\"}\n",
    "valid_dirs = {\"no\": \"dataset/val/no/\", \"vort\": \"dataset/val/vort/\", \"sphere\": \"dataset/val/sphere/\"}\n",
    "\n",
    "# Label mapping\n",
    "label_map = {\"no\": 0, \"vort\": 1, \"sphere\": 2}"
   ]
  },
  {
   "cell_type": "markdown",
   "metadata": {
    "id": "Nux0mYV_d89C"
   },
   "source": [
    "*   Defines a custom PyTorch dataset class (LensingDataset) for loading .npy image files.\n",
    "*   Initializes dataset paths and labels, storing image file paths and corresponding labels.\n",
    "*   Checks for missing .npy files and prints a warning if none are found.\n",
    "*   Implements __len__ method to return the total number of samples.\n",
    "*   Implements __getitem__ method to load an image, apply transformations (if any), and return it along with its label.\n",
    "\n",
    "\n",
    "\n",
    "\n",
    "\n",
    "\n",
    "\n",
    "\n",
    "\n"
   ]
  },
  {
   "cell_type": "code",
   "execution_count": 3,
   "metadata": {
    "id": "o583Eh3QauX9"
   },
   "outputs": [],
   "source": [
    "# Custom Dataset Class\n",
    "class LensingDataset(Dataset):\n",
    "    def __init__(self, directories, transform=None):\n",
    "        self.transform = transform\n",
    "        self.data = []\n",
    "        self.labels = []\n",
    "\n",
    "        for label, path in directories.items():\n",
    "            npy_files = glob(os.path.join(path, \"*.npy\"))\n",
    "            if len(npy_files) == 0:\n",
    "                print(f\" Warning: No .npy files found in {path}\")\n",
    "            for img_path in npy_files:\n",
    "                self.data.append(img_path)\n",
    "                self.labels.append(label_map[label])\n",
    "\n",
    "    def __len__(self):\n",
    "        return len(self.data)\n",
    "\n",
    "    def __getitem__(self, idx):\n",
    "        image = np.load(self.data[idx]).astype(np.float32)  # Load image\n",
    "        image = image.squeeze()  # Ensure shape is (H, W)\n",
    "\n",
    "        label = self.labels[idx]  # Scalar class label\n",
    "\n",
    "        if self.transform:\n",
    "            image = self.transform(image)  # Convert to tensor (C, H, W)\n",
    "\n",
    "        return image, label"
   ]
  },
  {
   "cell_type": "markdown",
   "metadata": {
    "id": "8oVU-kmpfrd_"
   },
   "source": [
    "Computes mean and standard deviation of the dataset for normalization.\n",
    "Loads all .npy images, stacks them, and calculates dataset-wide mean and standard deviation.\n",
    "\n",
    "> Defines a series of image transformations, including:\n",
    "-  Conversion to PIL image (ToPILImage()).\n",
    "-  Random affine transformations (rotation, translation, scaling).\n",
    "-  Random horizontal flipping.\n",
    "-  Random resized cropping.\n",
    "-  Gaussian blur.\n",
    "-  Conversion to tensor and normalization using computed mean and std."
   ]
  },
  {
   "cell_type": "code",
   "execution_count": 4,
   "metadata": {
    "id": "onO9avT1auX-"
   },
   "outputs": [],
   "source": [
    "\n",
    "# Transformations\n",
    "from torchvision.transforms import ToPILImage\n",
    "def compute_mean_std(dataset_dirs):\n",
    "    all_data = []\n",
    "    for label, path in dataset_dirs.items():\n",
    "        npy_files = glob(os.path.join(path, \"*.npy\"))\n",
    "        for img_path in npy_files:\n",
    "            img = np.load(img_path).astype(np.float32)\n",
    "            all_data.append(img)\n",
    "\n",
    "    all_data = np.stack(all_data)  # Convert list to numpy array\n",
    "    mean = np.mean(all_data) / 255.0\n",
    "    std = np.std(all_data) / 255.0\n",
    "    return mean, std\n",
    "\n",
    "mean, std = compute_mean_std(train_dirs)\n",
    "\n",
    "transform = transforms.Compose([\n",
    "    transforms.ToPILImage(),\n",
    "    transforms.RandomAffine(degrees=15, translate=(0.1, 0.1), scale=(0.9, 1.1)),\n",
    "    transforms.RandomHorizontalFlip(),\n",
    "    transforms.RandomResizedCrop(128, scale=(0.8, 1.2)),  # Resize after cropping\n",
    "    transforms.GaussianBlur(kernel_size=3, sigma=(0.1, 2.0)),\n",
    "    transforms.ToTensor(),\n",
    "    transforms.Normalize(mean=[mean], std=[std])  # Normalization remains the same\n",
    "])\n",
    "\n",
    "\n",
    "\n",
    "\n"
   ]
  },
  {
   "cell_type": "markdown",
   "metadata": {
    "id": "aKX07xNZgTKN"
   },
   "source": [
    "*  Loads training and validation datasets using the LensingDataset class with transformations applied.\n",
    "*  Creates a 10% subset of the training dataset by selecting random indices.\n",
    "*  Initializes DataLoaders for both the subset (shuffled) and full validation set (not shuffled).\n",
    "*  Counts class distributions in the full training, validation, and subset datasets using Counter.\n",
    "*  Prints label distributions to check class balance in datasets."
   ]
  },
  {
   "cell_type": "code",
   "execution_count": 5,
   "metadata": {
    "id": "fnSNaKhaauX-",
    "outputId": "d8df24b7-0c73-47c0-8987-0c517987be63"
   },
   "outputs": [
    {
     "name": "stdout",
     "output_type": "stream",
     "text": [
      "Training Set Label Counts: Counter({0: 10000, 1: 10000, 2: 10000})\n",
      "Validation Set Label Counts: Counter({0: 2500, 1: 2500, 2: 2500})\n",
      "Training Subset Label Counts: Counter({1: 1019, 2: 1017, 0: 964})\n"
     ]
    }
   ],
   "source": [
    "\n",
    "# Load datasets\n",
    "train_dataset = LensingDataset(train_dirs, transform=transform)\n",
    "valid_dataset = LensingDataset(valid_dirs, transform=transform)\n",
    "\n",
    "from torch.utils.data import Subset\n",
    "\n",
    "# Get 10% of the training dataset\n",
    "subset_size = int(0.1 * len(train_dataset))\n",
    "indices = torch.randperm(len(train_dataset))[:subset_size]\n",
    "train_subset = Subset(train_dataset, indices)\n",
    "\n",
    "# Create DataLoader for the subset\n",
    "train_loader = DataLoader(train_subset, batch_size=32, shuffle=True)\n",
    "\n",
    "valid_loader = DataLoader(valid_dataset, batch_size=32, shuffle=False)\n",
    "\n",
    "from collections import Counter\n",
    "train_label_counts = Counter(train_dataset.labels)\n",
    "print(\"Training Set Label Counts:\", train_label_counts)\n",
    "valid_label_counts = Counter(valid_dataset.labels)\n",
    "print(\"Validation Set Label Counts:\", valid_label_counts)\n",
    "\n",
    "# Get the label counts for the train_subset\n",
    "train_subset_labels = [train_dataset[idx][1] for idx in indices]  # Get labels of the subset samples\n",
    "train_subset_label_counts = Counter(train_subset_labels)\n",
    "print(\"Training Subset Label Counts:\", train_subset_label_counts)\n",
    "\n"
   ]
  },
  {
   "cell_type": "markdown",
   "metadata": {
    "id": "6xS_vR7hi3b5"
   },
   "source": [
    "*  Defines LensingResNet model based on ResNet-50, modifying the first layer for 1-channel input and the fully connected layer for 3 classes.\n",
    "*  Initializes the model and moves it to the available device (GPU or CPU).\n",
    "*  Defines loss function (CrossEntropyLoss) and optimizer (Adam with a learning rate of 0.0001).\n",
    "*  Runs a training loop for 25 epochs, iterating over the dataset in batches.\n",
    "*  Handles potential extra dimensions in images by squeezing if necessary.\n",
    "*  Performs forward pass, computes loss, backpropagates gradients, and updates model parameters in each iteration.\n",
    "*  Prints epoch-wise training loss to monitor model performance."
   ]
  },
  {
   "cell_type": "code",
   "execution_count": 6,
   "metadata": {
    "id": "gZOfyJWRauX_",
    "outputId": "070e7d96-0986-4c5d-ae7c-56e2916573ac"
   },
   "outputs": [
    {
     "name": "stdout",
     "output_type": "stream",
     "text": [
      "Epoch 1/25, Loss: 1.1433\n",
      "Epoch 2/25, Loss: 1.1231\n",
      "Epoch 3/25, Loss: 1.1197\n",
      "Epoch 4/25, Loss: 1.1041\n",
      "Epoch 5/25, Loss: 1.1055\n",
      "Epoch 6/25, Loss: 1.1043\n",
      "Epoch 7/25, Loss: 1.0922\n",
      "Epoch 8/25, Loss: 1.0845\n",
      "Epoch 9/25, Loss: 1.0678\n",
      "Epoch 10/25, Loss: 1.0450\n",
      "Epoch 11/25, Loss: 1.0037\n",
      "Epoch 12/25, Loss: 0.9570\n",
      "Epoch 13/25, Loss: 0.9357\n",
      "Epoch 14/25, Loss: 0.9072\n",
      "Epoch 15/25, Loss: 0.8707\n",
      "Epoch 16/25, Loss: 0.8426\n",
      "Epoch 17/25, Loss: 0.8228\n",
      "Epoch 18/25, Loss: 0.7906\n",
      "Epoch 19/25, Loss: 0.7485\n",
      "Epoch 20/25, Loss: 0.7279\n",
      "Epoch 21/25, Loss: 0.7009\n",
      "Epoch 22/25, Loss: 0.6647\n",
      "Epoch 23/25, Loss: 0.6608\n",
      "Epoch 24/25, Loss: 0.6374\n",
      "Epoch 25/25, Loss: 0.6192\n"
     ]
    }
   ],
   "source": [
    "class LensingResNet(nn.Module):\n",
    "    def __init__(self, num_classes=3):\n",
    "        super(LensingResNet, self).__init__()\n",
    "        self.base_model = models.resnet50(weights=\"IMAGENET1K_V1\")\n",
    "        self.base_model.conv1 = nn.Conv2d(1, 64, kernel_size=7, stride=2, padding=3, bias=False)  # Adjust for 1-channel\n",
    "        self.base_model.fc = nn.Linear(2048, num_classes)  # Fix input dimension (2048, num_classes)\n",
    "\n",
    "    def forward(self, x):\n",
    "        return self.base_model(x)\n",
    "\n",
    "# Model initialization\n",
    "model = LensingResNet(num_classes=3).to(device)\n",
    "\n",
    "# Loss and optimizer\n",
    "criterion = nn.CrossEntropyLoss()\n",
    "optimizer = optim.Adam(model.parameters(), lr=0.0001)\n",
    "\n",
    "# Training loop\n",
    "epochs = 25\n",
    "\n",
    "for epoch in range(epochs):\n",
    "    model.train()\n",
    "    running_loss = 0.0\n",
    "    for images, labels in train_loader:\n",
    "        images, labels = images.to(device), labels.to(device)\n",
    "\n",
    "        # If there's an extra dimension, remove it\n",
    "        if images.dim() == 5:\n",
    "            images = images.squeeze(2)  # Remove the extra dimension\n",
    "\n",
    "        optimizer.zero_grad()\n",
    "        outputs = model(images)\n",
    "        loss = criterion(outputs, labels)\n",
    "        loss.backward()\n",
    "        optimizer.step()\n",
    "        running_loss += loss.item()\n",
    "\n",
    "    print(f\"Epoch {epoch+1}/{epochs}, Loss: {running_loss/len(train_loader):.4f}\")\n"
   ]
  },
  {
   "cell_type": "markdown",
   "metadata": {
    "id": "IRA2bbudn_xe"
   },
   "source": [
    "**Save Model Weights**"
   ]
  },
  {
   "cell_type": "code",
   "execution_count": 7,
   "metadata": {
    "id": "tPHEk2qZn-5G"
   },
   "outputs": [],
   "source": [
    "import torch\n",
    "import json\n",
    "\n",
    "# Get the state dictionary (model weights)\n",
    "state_dict = model.state_dict()\n",
    "\n",
    "# Convert tensors to lists for JSON serialization\n",
    "state_dict_json = {key: value.tolist() for key, value in state_dict.items()}\n",
    "\n",
    "# Save to a JSON file\n",
    "with open(\"model_weights.json\", \"w\") as json_file:\n",
    "    json.dump(state_dict_json, json_file, indent=4)\n"
   ]
  },
  {
   "cell_type": "markdown",
   "metadata": {
    "id": "JABXYhtfjl9t"
   },
   "source": [
    "**AUC-ROC Evaluation**"
   ]
  },
  {
   "cell_type": "code",
   "execution_count": 8,
   "metadata": {
    "id": "rbOduVnVauYA",
    "outputId": "9db624b1-d1a6-4c20-ada6-cf64ed639ea0"
   },
   "outputs": [
    {
     "name": "stdout",
     "output_type": "stream",
     "text": [
      "Validation AUC-ROC: 0.8846\n"
     ]
    }
   ],
   "source": [
    "\n",
    "# Evaluation\n",
    "model.eval()\n",
    "all_preds = []\n",
    "all_labels = []\n",
    "with torch.no_grad():\n",
    "    for images, labels in valid_loader:\n",
    "        images, labels = images.to(device), labels.to(device)\n",
    "\n",
    "        # If there's an extra dimension, remove it\n",
    "        if images.dim() == 5:\n",
    "            images = images.squeeze(2)  # Remove the extra dimension\n",
    "\n",
    "        outputs = model(images)\n",
    "        preds = torch.softmax(outputs, dim=1).cpu().numpy()\n",
    "        all_preds.extend(preds)\n",
    "        all_labels.extend(labels.cpu().numpy())\n",
    "\n",
    "# Compute AUC-ROC\n",
    "all_preds = np.array(all_preds)\n",
    "all_labels = np.array(all_labels)\n",
    "auc = roc_auc_score(np.eye(3)[all_labels], all_preds, multi_class='ovr')\n",
    "print(f\"Validation AUC-ROC: {auc:.4f}\")\n"
   ]
  },
  {
   "cell_type": "markdown",
   "metadata": {
    "id": "oOApMT8zjo8-"
   },
   "source": [
    "**AUC-ROC Plotting**"
   ]
  },
  {
   "cell_type": "code",
   "execution_count": 9,
   "metadata": {
    "id": "7tKSt4OQauYA",
    "outputId": "6d1a3d74-e273-42e8-ab70-53527ec0db8c"
   },
   "outputs": [
    {
     "data": {
      "image/png": "[encoded data removed]",
      "text/plain": [
       "<Figure size 800x600 with 1 Axes>"
      ]
     },
     "metadata": {},
     "output_type": "display_data"
    }
   ],
   "source": [
    "# Compute ROC curve and AUC for each class\n",
    "num_classes = 3\n",
    "fpr = {}\n",
    "tpr = {}\n",
    "roc_auc = {}\n",
    "\n",
    "for i in range(num_classes):\n",
    "    fpr[i], tpr[i], _ = roc_curve(np.eye(num_classes)[all_labels][:, i], all_preds[:, i])\n",
    "    roc_auc[i] = roc_auc_score(np.eye(num_classes)[all_labels][:, i], all_preds[:, i])\n",
    "\n",
    "# Compute macro-average ROC curve and AUC\n",
    "fpr[\"macro\"], tpr[\"macro\"], _ = roc_curve(np.eye(num_classes)[all_labels].ravel(), all_preds.ravel())\n",
    "roc_auc[\"macro\"] = roc_auc_score(np.eye(num_classes)[all_labels], all_preds, multi_class='ovr')\n",
    "\n",
    "# Plot the ROC curves\n",
    "plt.figure(figsize=(8, 6))\n",
    "colors = ['blue', 'red', 'green']\n",
    "class_labels = ['No', 'Vort', 'Sphere']\n",
    "\n",
    "for i, color in enumerate(colors):\n",
    "    plt.plot(fpr[i], tpr[i], color=color, lw=2, label=f'Class {class_labels[i]} (AUC = {roc_auc[i]:.2f})')\n",
    "\n",
    "# Plot macro-average ROC curve\n",
    "plt.plot(fpr[\"macro\"], tpr[\"macro\"], color='black', linestyle='--', lw=2, label=f'Macro-average (AUC = {roc_auc[\"macro\"]:.2f})')\n",
    "\n",
    "# Plot random classifier line (diagonal)\n",
    "plt.plot([0, 1], [0, 1], color='gray', linestyle='--', lw=1)\n",
    "\n",
    "plt.xlabel('False Positive Rate (FPR)')\n",
    "plt.ylabel('True Positive Rate (TPR)')\n",
    "plt.title('ROC Curves for Multi-Class Classification')\n",
    "plt.legend(loc=\"lower right\")\n",
    "plt.grid()\n",
    "plt.show()\n"
   ]
  }
 ],
 "metadata": {
  "colab": {
   "provenance": [],
   "toc_visible": true
  },
  "kernelspec": {
   "display_name": "base",
   "language": "python",
   "name": "python3"
  },
  "language_info": {
   "codemirror_mode": {
    "name": "ipython",
    "version": 3
   },
   "file_extension": ".py",
   "mimetype": "text/x-python",
   "name": "python",
   "nbconvert_exporter": "python",
   "pygments_lexer": "ipython3",
   "version": "3.12.7"
  }
 },
 "nbformat": 4,
 "nbformat_minor": 0
}
