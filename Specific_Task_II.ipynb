{
 "cells": [
  {
   "cell_type": "markdown",
   "metadata": {
    "id": "1J_sxAm7o6u1"
   },
   "source": [
    "# **Specific Test II. Lens Finding**"
   ]
  },
  {
   "cell_type": "markdown",
   "metadata": {
    "id": "j4PacGSEpLwO"
   },
   "source": [
    "*  Imports Libraries:\n",
    " -  PyTorch (torch, torch.nn, torch.optim) for deep learning model building and optimization.\n",
    " -  torchvision.transforms for image transformations.\n",
    " -  torch.utils.data for dataset management and loading.\n",
    " -  WeightedRandomSampler to handle class imbalances in datasets.\n",
    " -  numpy for numerical operations.\n",
    " -  matplotlib.pyplot for visualizations (e.g., plotting graphs).\n",
    " -  os for file path and directory handling.\n",
    " -  roc_curve and auc from sklearn.metrics for evaluating model performance using ROC-AUC."
   ]
  },
  {
   "cell_type": "code",
   "execution_count": 1,
   "metadata": {
    "id": "Lygo_jYpo5C4"
   },
   "outputs": [],
   "source": [
    "import torch\n",
    "import torch.nn as nn\n",
    "import torch.optim as optim\n",
    "import torchvision.transforms as transforms\n",
    "from torch.utils.data import DataLoader, Dataset, WeightedRandomSampler\n",
    "import numpy as np\n",
    "import matplotlib.pyplot as plt\n",
    "import os\n",
    "from sklearn.metrics import roc_curve, auc"
   ]
  },
  {
   "cell_type": "markdown",
   "metadata": {
    "id": "puDQsy-8p4Wc"
   },
   "source": [
    "*  Initialization: Loads image paths and assigns labels.\n",
    "*  Length: Returns the number of images.\n",
    "*  Fetching Item: Loads and transforms images, returns the image and its label."
   ]
  },
  {
   "cell_type": "code",
   "execution_count": 2,
   "metadata": {
    "id": "rrWorx89o5C6"
   },
   "outputs": [],
   "source": [
    "\n",
    "# Custom dataset class\n",
    "class LensingDataset(Dataset):\n",
    "    def __init__(self, root_dir, label, transform=None):\n",
    "        self.root_dir = root_dir\n",
    "        self.label = label\n",
    "        self.transform = transform\n",
    "        self.images = [os.path.join(root_dir, img) for img in os.listdir(root_dir)]\n",
    "\n",
    "    def __len__(self):\n",
    "        return len(self.images)\n",
    "\n",
    "    def __getitem__(self, idx):\n",
    "        img_path = self.images[idx]\n",
    "        image = np.load(img_path)  # Shape: (3, 64, 64)\n",
    "        image = torch.tensor(image, dtype=torch.float32)\n",
    "        if self.transform:\n",
    "            image = self.transform(image)\n",
    "        return image, self.label\n"
   ]
  },
  {
   "cell_type": "markdown",
   "metadata": {
    "id": "C-SB0vVOqGPm"
   },
   "source": [
    "**Normalization:** Transforms input images by normalizing with a mean of [0.5, 0.5, 0.5] and a standard deviation of [0.5, 0.5, 0.5]."
   ]
  },
  {
   "cell_type": "code",
   "execution_count": 3,
   "metadata": {
    "id": "uzSUq6Bso5C6"
   },
   "outputs": [],
   "source": [
    "\n",
    "# Define transformations\n",
    "transform = transforms.Compose([\n",
    "    transforms.Normalize(mean=[0.5, 0.5, 0.5], std=[0.5, 0.5, 0.5])\n",
    "])"
   ]
  },
  {
   "cell_type": "markdown",
   "metadata": {
    "id": "I13UKLmiqU4o"
   },
   "source": [
    "**Reload Datasets:** Loads the train_lenses, train_nonlenses, test_lenses, and test_nonlenses datasets using the LensingDataset class with appropriate labels (1 for lenses and 0 for non-lenses) and the defined transformation."
   ]
  },
  {
   "cell_type": "code",
   "execution_count": 4,
   "metadata": {
    "id": "VZe2EIcOo5C7"
   },
   "outputs": [],
   "source": [
    "\n",
    "# Reload datasets with proper transform\n",
    "train_lenses = LensingDataset(\"train_lenses\", 1, transform=transform)\n",
    "train_nonlenses = LensingDataset(\"train_nonlenses\", 0, transform=transform)\n",
    "test_lenses = LensingDataset(\"test_lenses\", 1, transform=transform)\n",
    "test_nonlenses = LensingDataset(\"test_nonlenses\", 0, transform=transform)\n"
   ]
  },
  {
   "cell_type": "markdown",
   "metadata": {
    "id": "Fj6VcOKtqkwS"
   },
   "source": [
    "**Create Imbalanced Dataset Handling:**\n",
    "\n",
    "> *  Combines the train_lenses and train_nonlenses datasets into one using ConcatDataset.\n",
    "*  Assigns labels (1 for lenses and 0 for non-lenses) to each image in the combined dataset.\n",
    "*  Calculates class counts and class weights based on the inverse frequency of each class.\n",
    "*  Computes sample weights for each image based on its label and the corresponding class weight.\n",
    "*  Uses a WeightedRandomSampler to handle class imbalance by sampling images with replacement according to their sample weights.\n"
   ]
  },
  {
   "cell_type": "code",
   "execution_count": 5,
   "metadata": {
    "id": "Zw61fqaNo5C7"
   },
   "outputs": [],
   "source": [
    "# Create imbalanced dataset handling\n",
    "train_dataset = torch.utils.data.ConcatDataset([train_lenses, train_nonlenses])\n",
    "labels = [1] * len(train_lenses) + [0] * len(train_nonlenses)\n",
    "class_counts = [len(train_nonlenses), len(train_lenses)]\n",
    "class_weights = 1.0 / torch.tensor(class_counts, dtype=torch.float32)\n",
    "sample_weights = [class_weights[label] for label in labels]\n",
    "sampler = WeightedRandomSampler(sample_weights, num_samples=len(sample_weights), replacement=True)\n"
   ]
  },
  {
   "cell_type": "markdown",
   "metadata": {
    "id": "bHShHa6Fq5zl"
   },
   "source": [
    "**Create DataLoader for Training and Testing**\n",
    "\n",
    "***train_loader:***\n",
    "> * Loads the combined training dataset (train_dataset) using a DataLoader with a batch size of 32.\n",
    "* The WeightedRandomSampler is used to ensure balanced sampling of classes based on sample weights.\n",
    "\n",
    "***test_loader:***\n",
    "> *  Loads the combined test dataset (test_dataset) using a DataLoader with a batch size of 32.\n",
    "* The shuffle=False ensures that the test data is not shuffled."
   ]
  },
  {
   "cell_type": "code",
   "execution_count": 6,
   "metadata": {
    "id": "kYMjdON7o5C7"
   },
   "outputs": [],
   "source": [
    "\n",
    "train_loader = DataLoader(train_dataset, batch_size=32, sampler=sampler)\n",
    "test_dataset = torch.utils.data.ConcatDataset([test_lenses, test_nonlenses])\n",
    "test_loader = DataLoader(test_dataset, batch_size=32, shuffle=False)\n"
   ]
  },
  {
   "cell_type": "markdown",
   "metadata": {
    "id": "VcqeJVBcrTs3"
   },
   "source": [
    "**Convolutional Layers:**\n",
    "\n",
    "*  First Conv2d (3 input channels, 32 output channels) with ReLU and MaxPool.\n",
    "*  Second Conv2d (32 input channels, 64 output channels) with ReLU and MaxPool.\n",
    "\n",
    "**Fully Connected Layers:** Flatten followed by two Linear layers (128 neurons, then 1 output with Sigmoid).\n",
    "\n",
    "**Forward Pass:** Input passes through conv layers, then fully connected layers for classification."
   ]
  },
  {
   "cell_type": "code",
   "execution_count": 7,
   "metadata": {
    "id": "xh-K8uRro5C7"
   },
   "outputs": [],
   "source": [
    "\n",
    "# Define CNN model\n",
    "class CNN(nn.Module):\n",
    "    def __init__(self):\n",
    "        super(CNN, self).__init__()\n",
    "        self.conv_layers = nn.Sequential(\n",
    "            nn.Conv2d(3, 32, kernel_size=3, stride=1, padding=1),\n",
    "            nn.ReLU(),\n",
    "            nn.MaxPool2d(2, 2),\n",
    "            nn.Conv2d(32, 64, kernel_size=3, stride=1, padding=1),\n",
    "            nn.ReLU(),\n",
    "            nn.MaxPool2d(2, 2),\n",
    "        )\n",
    "        self.fc_layers = nn.Sequential(\n",
    "            nn.Flatten(),\n",
    "            nn.Linear(64 * 16 * 16, 128),\n",
    "            nn.ReLU(),\n",
    "            nn.Linear(128, 1),\n",
    "            nn.Sigmoid()\n",
    "        )\n",
    "\n",
    "    def forward(self, x):\n",
    "        x = self.conv_layers(x)\n",
    "        x = self.fc_layers(x)\n",
    "        return x"
   ]
  },
  {
   "cell_type": "markdown",
   "metadata": {
    "id": "_U9pQTGmsFSm"
   },
   "source": [
    "**Device Setup:** Selects GPU if available, else defaults to CPU.\n",
    "\n",
    "**Model Initialization:** Creates an instance of the CNN model and moves it to the selected device.\n",
    "\n",
    "**Loss Function:** Uses Binary Cross-Entropy loss (BCELoss).\n",
    "\n",
    "**Optimizer:** Uses Adam optimizer with a learning rate of 0.001.\n",
    "\n",
    "**Training Loop:**\n",
    "*  Loops through specified epochs.\n",
    "*  Loads batches from train_loader, moves data to the selected device.\n",
    "*  Zeroes gradients, performs forward pass, calculates loss, and updates the model.\n",
    "*  Prints average loss for each epoch."
   ]
  },
  {
   "cell_type": "code",
   "execution_count": 8,
   "metadata": {
    "id": "5I-uge84o5C8",
    "outputId": "98c01617-3517-42f5-fa8b-5545b0143064"
   },
   "outputs": [
    {
     "name": "stdout",
     "output_type": "stream",
     "text": [
      "Epoch 1, Loss: 0.2966\n",
      "Epoch 2, Loss: 0.1783\n",
      "Epoch 3, Loss: 0.1333\n",
      "Epoch 4, Loss: 0.1005\n",
      "Epoch 5, Loss: 0.0960\n"
     ]
    }
   ],
   "source": [
    "\n",
    "# Initialize model, loss, and optimizer\n",
    "device = torch.device(\"cuda\" if torch.cuda.is_available() else \"cpu\")\n",
    "model = CNN().to(device)\n",
    "criterion = nn.BCELoss()\n",
    "optimizer = optim.Adam(model.parameters(), lr=0.001)\n",
    "\n",
    "# Training loop\n",
    "def train_model(model, train_loader, criterion, optimizer, epochs=5):\n",
    "    model.train()\n",
    "    for epoch in range(epochs):\n",
    "        running_loss = 0.0\n",
    "        for images, labels in train_loader:\n",
    "            images, labels = images.to(device), labels.to(device, dtype=torch.float32)\n",
    "            optimizer.zero_grad()\n",
    "            outputs = model(images).squeeze()\n",
    "            loss = criterion(outputs, labels)\n",
    "            loss.backward()\n",
    "            optimizer.step()\n",
    "            running_loss += loss.item()\n",
    "        print(f\"Epoch {epoch+1}, Loss: {running_loss/len(train_loader):.4f}\")\n",
    "\n",
    "train_model(model, train_loader, criterion, optimizer)\n"
   ]
  },
  {
   "cell_type": "markdown",
   "metadata": {
    "id": "B2WLK9yiszTL"
   },
   "source": [
    "**Save Model weights**"
   ]
  },
  {
   "cell_type": "code",
   "execution_count": 9,
   "metadata": {
    "id": "QMMbo2Xes1pC"
   },
   "outputs": [],
   "source": [
    "import torch\n",
    "import json\n",
    "\n",
    "# Get the state dictionary (model weights)\n",
    "state_dict = model.state_dict()\n",
    "\n",
    "# Convert tensors to lists for JSON serialization\n",
    "state_dict_json = {key: value.tolist() for key, value in state_dict.items()}\n",
    "\n",
    "# Save to a JSON file\n",
    "with open(\"model_weights_specific_task_2.json\", \"w\") as json_file:\n",
    "    json.dump(state_dict_json, json_file, indent=4)"
   ]
  },
  {
   "cell_type": "markdown",
   "metadata": {
    "id": "uG34dnmXsepx"
   },
   "source": [
    "**Evaluation Function:**\n",
    "*  Switches the model to evaluation mode (model.eval()).\n",
    "*  Collects true labels and predicted scores in y_true and y_scores.\n",
    "*  Iterates through the test dataset (test_loader), performs inference, and stores results.\n",
    "*  Calculates ROC Curve using roc_curve and computes AUC score using auc.\n",
    "*  Plots the ROC curve and displays the AUC score in the plot legend.\n",
    "*  Prints the AUC score in the console after evaluation."
   ]
  },
  {
   "cell_type": "code",
   "execution_count": 10,
   "metadata": {
    "id": "ncpKb1mfo5C8",
    "outputId": "199287ca-4264-4ecd-d7ad-58bf6905b089"
   },
   "outputs": [
    {
     "data": {
      "image/png": "[encoded data removed]",
      "text/plain": [
       "<Figure size 640x480 with 1 Axes>"
      ]
     },
     "metadata": {},
     "output_type": "display_data"
    },
    {
     "name": "stdout",
     "output_type": "stream",
     "text": [
      "AUC Score: 0.928\n"
     ]
    }
   ],
   "source": [
    "\n",
    "# Evaluation function\n",
    "def evaluate_model(model, test_loader):\n",
    "    model.eval()\n",
    "    y_true, y_scores = [], []\n",
    "    with torch.no_grad():\n",
    "        for images, labels in test_loader:\n",
    "            images, labels = images.to(device), labels.numpy()\n",
    "            outputs = model(images).squeeze().cpu().numpy()\n",
    "            y_true.extend(labels)\n",
    "            y_scores.extend(outputs)\n",
    "\n",
    "    fpr, tpr, _ = roc_curve(y_true, y_scores)\n",
    "    auc_score = auc(fpr, tpr)\n",
    "\n",
    "    plt.figure()\n",
    "    plt.plot(fpr, tpr, color='blue', label=f'AUC = {auc_score:.3f}')\n",
    "    plt.xlabel('False Positive Rate')\n",
    "    plt.ylabel('True Positive Rate')\n",
    "    plt.title('ROC Curve')\n",
    "    plt.legend()\n",
    "    plt.show()\n",
    "\n",
    "    print(f\"AUC Score: {auc_score:.3f}\")\n",
    "\n",
    "evaluate_model(model, test_loader)\n"
   ]
  }
 ],
 "metadata": {
  "colab": {
   "provenance": []
  },
  "kernelspec": {
   "display_name": "base",
   "language": "python",
   "name": "python3"
  },
  "language_info": {
   "codemirror_mode": {
    "name": "ipython",
    "version": 3
   },
   "file_extension": ".py",
   "mimetype": "text/x-python",
   "name": "python",
   "nbconvert_exporter": "python",
   "pygments_lexer": "ipython3",
   "version": "3.12.7"
  }
 },
 "nbformat": 4,
 "nbformat_minor": 0
}
